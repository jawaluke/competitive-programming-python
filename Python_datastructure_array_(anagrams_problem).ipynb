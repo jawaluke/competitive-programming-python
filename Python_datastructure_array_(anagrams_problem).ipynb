{
  "nbformat": 4,
  "nbformat_minor": 0,
  "metadata": {
    "colab": {
      "name": "Python datastructure-array (anagrams problem)",
      "provenance": [],
      "authorship_tag": "ABX9TyNjWWfzbIvpC0PA9eNoIgI6",
      "include_colab_link": true
    },
    "kernelspec": {
      "name": "python3",
      "display_name": "Python 3"
    }
  },
  "cells": [
    {
      "cell_type": "markdown",
      "metadata": {
        "id": "view-in-github",
        "colab_type": "text"
      },
      "source": [
        "<a href=\"https://colab.research.google.com/github/jawaluke/competitive-programming-python/blob/master/Python_datastructure_array_(anagrams_problem).ipynb\" target=\"_parent\"><img src=\"https://colab.research.google.com/assets/colab-badge.svg\" alt=\"Open In Colab\"/></a>"
      ]
    },
    {
      "cell_type": "markdown",
      "metadata": {
        "id": "BHqTep3bsICf"
      },
      "source": [
        "#**Checking the Anagrams**\n",
        "\n",
        "**problem statement :**\n",
        "\n",
        "**checking the two string whether it could be a sentences or paragraph which were the string to be same or not**"
      ]
    },
    {
      "cell_type": "markdown",
      "metadata": {
        "id": "u8ZYCzfFs9Oj"
      },
      "source": [
        "**Sample Inputs and Outputs**\n",
        "\n",
        "1) **Inputs :**\n",
        "\n",
        "**First_string = \"dog\"**\n",
        "   \n",
        "**Second_string = \"god\"**\n",
        "\n",
        "**Output :**\n",
        "\n",
        "**\"It's a anagrams\"**"
      ]
    },
    {
      "cell_type": "markdown",
      "metadata": {
        "id": "BEq-lOV2twhg"
      },
      "source": [
        "2)**Inputs :**\n",
        "\n",
        "**First_string = \"action speaks\"**\n",
        "\n",
        "**Second_string = \"loud noise\"**\n",
        "\n",
        "**Output :**\n",
        "\n",
        "**\"It's not an anagrams\"**"
      ]
    },
    {
      "cell_type": "markdown",
      "metadata": {
        "id": "0kshiFGbuxqx"
      },
      "source": [
        "3)**Inputs :**\n",
        "\n",
        "**First_string = \"client eastwood\"**\n",
        "\n",
        "**Second_string = \"old west action\"**\n",
        "\n",
        "**Output :**\n",
        "\n",
        "**\"It's an anagrams\"**"
      ]
    },
    {
      "cell_type": "code",
      "metadata": {
        "id": "YtVheSHBs8Cm"
      },
      "source": [
        "# First step\n",
        "# we need to remove the duplicate of both strings and also spaces\n",
        "\n",
        "# creating a function to remove duplicates\n",
        "# it is same implementation of \"SET\" function in python\n",
        "\n",
        "def sets(strings):\n",
        "  rep = []  # to store the strings in list\n",
        "  ans = []  # it gives the list without duplication and spaces\n",
        "  for i in strings:\n",
        "    if i not in rep and i!= \" \":   # check the ith element not in rep list and also not having space\n",
        "      ans.append(i)                 # if it's true then add the element to our ans list\n",
        "\n",
        "    rep.append(i)                   # appending every element in rep list\n",
        "  return ans\n"
      ],
      "execution_count": 1,
      "outputs": []
    },
    {
      "cell_type": "code",
      "metadata": {
        "id": "EXFABcb5xLFO",
        "outputId": "38e50842-2b3d-4afd-c80c-897c0ba61436",
        "colab": {
          "base_uri": "https://localhost:8080/",
          "height": 67
        }
      },
      "source": [
        "# sample test :\n",
        "sets(\"dog\"), sets(\"client eastwood\"), sets(\"old west action\")"
      ],
      "execution_count": 3,
      "outputs": [
        {
          "output_type": "execute_result",
          "data": {
            "text/plain": [
              "(['d', 'o', 'g'],\n",
              " ['c', 'l', 'i', 'e', 'n', 't', 'a', 's', 'w', 'o', 'd'],\n",
              " ['o', 'l', 'd', 'w', 'e', 's', 't', 'a', 'c', 'i', 'n'])"
            ]
          },
          "metadata": {
            "tags": []
          },
          "execution_count": 3
        }
      ]
    },
    {
      "cell_type": "code",
      "metadata": {
        "id": "V19sFytFxU6u"
      },
      "source": [
        "# Second step\n",
        "# we need to check the first string matches the second string\n",
        "\n",
        "# creating a function same :\n",
        "\n",
        "def same(input1, input2):\n",
        "\n",
        "  if len(input1)== len(input2):  # 1) checking the length of both list is same or not\n",
        "    for i in input1:             # 2) iterating the input1\n",
        "      if i not in input2:        # 3) if ith element not in the list then break\n",
        "        break\n",
        "    return \"it's an anagrams\"    # 4) else return \"it's an anagrams\"\n",
        "  \n",
        "  return \"it's not an anagrams\"  # 5) after the break statement step 3), then it execute \"it's not an anagrams\""
      ],
      "execution_count": 5,
      "outputs": []
    },
    {
      "cell_type": "code",
      "metadata": {
        "id": "6iTASav1yfFH",
        "outputId": "55d8db06-897e-41c0-c11b-77565c8513c0",
        "colab": {
          "base_uri": "https://localhost:8080/",
          "height": 35
        }
      },
      "source": [
        "first_string = \"client eastwood\"\n",
        "second_string = \"old west action\"\n",
        "\n",
        "# calling the same function\n",
        "\n",
        "same(sets(first_string), sets(second_string))  # calling the sets function inner the same function"
      ],
      "execution_count": 6,
      "outputs": [
        {
          "output_type": "execute_result",
          "data": {
            "application/vnd.google.colaboratory.intrinsic+json": {
              "type": "string"
            },
            "text/plain": [
              "\"it's an anagrams\""
            ]
          },
          "metadata": {
            "tags": []
          },
          "execution_count": 6
        }
      ]
    },
    {
      "cell_type": "code",
      "metadata": {
        "id": "odzMgiZ3ztAl",
        "outputId": "2c922241-c6d0-49d7-f202-ab59a9c60383",
        "colab": {
          "base_uri": "https://localhost:8080/",
          "height": 35
        }
      },
      "source": [
        "same(sets(\"dog\"),sets(\"god\"))"
      ],
      "execution_count": 8,
      "outputs": [
        {
          "output_type": "execute_result",
          "data": {
            "application/vnd.google.colaboratory.intrinsic+json": {
              "type": "string"
            },
            "text/plain": [
              "\"it's an anagrams\""
            ]
          },
          "metadata": {
            "tags": []
          },
          "execution_count": 8
        }
      ]
    },
    {
      "cell_type": "code",
      "metadata": {
        "id": "OOpwz2Rqz0Pe",
        "outputId": "0edacb87-a678-4d35-963a-079fa8f5295e",
        "colab": {
          "base_uri": "https://localhost:8080/",
          "height": 35
        }
      },
      "source": [
        "same(sets(\"action speak\"), sets(\"loud noise\"))"
      ],
      "execution_count": 9,
      "outputs": [
        {
          "output_type": "execute_result",
          "data": {
            "application/vnd.google.colaboratory.intrinsic+json": {
              "type": "string"
            },
            "text/plain": [
              "\"it's not an anagrams\""
            ]
          },
          "metadata": {
            "tags": []
          },
          "execution_count": 9
        }
      ]
    },
    {
      "cell_type": "code",
      "metadata": {
        "id": "Jj0suuJZ0AQY"
      },
      "source": [
        "# thanks for visiting "
      ],
      "execution_count": 10,
      "outputs": []
    },
    {
      "cell_type": "markdown",
      "metadata": {
        "id": "e46f_AG20FqJ"
      },
      "source": [
        "#**Atlast, there were many approach to solve it. please try it in your way**\n",
        "\n",
        "**if your try didn't work, use another approach i'm sure it will work thanks again**"
      ]
    },
    {
      "cell_type": "code",
      "metadata": {
        "id": "UEhrLIwL0iDi"
      },
      "source": [
        ""
      ],
      "execution_count": null,
      "outputs": []
    }
  ]
}