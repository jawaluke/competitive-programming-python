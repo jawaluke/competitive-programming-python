{
 "cells": [
  {
   "cell_type": "code",
   "execution_count": 82,
   "metadata": {},
   "outputs": [],
   "source": [
    "# first person input\n",
    "\n",
    "first_input1 = [[\"9:00\",\"10:30\"],[\"12:00\",\"13:00\"],[\"17:00\",\"18:00\"]]\n",
    "first_input2 = [\"9:00\",\"20:00\"]\n",
    "\n",
    "# second person input\n",
    "\n",
    "second_input1 = [[\"10:00\",\"12:30\"],[\"14:30\",\"15:00\"],[\"16:00\",\"17:00\"]]\n",
    "second_input2 = [\"10:00\",\"18:30\"]"
   ]
  },
  {
   "cell_type": "code",
   "execution_count": 83,
   "metadata": {},
   "outputs": [],
   "source": [
    "# preprocessing the input\n",
    "\n",
    "def time_preprocess(time):\n",
    "    \n",
    "    main_list = []\n",
    "    for i in time:\n",
    "        sub_list = []\n",
    "        for j in i:\n",
    "            sub_list.append(int(j[:-3]+j[-2:]))\n",
    "        main_list.append(sub_list)\n",
    "    return main_list"
   ]
  },
  {
   "cell_type": "code",
   "execution_count": 84,
   "metadata": {},
   "outputs": [
    {
     "data": {
      "text/plain": [
       "[[900, 1030], [1200, 1300], [1700, 1800]]"
      ]
     },
     "execution_count": 84,
     "metadata": {},
     "output_type": "execute_result"
    }
   ],
   "source": [
    "# preprocess the input like : 12:30 ----> 1230, 11:00--------> 1100\n",
    "\n",
    "# for person 1\n",
    "\n",
    "time1 = time_preprocess(first_input1)\n",
    "time1"
   ]
  },
  {
   "cell_type": "code",
   "execution_count": 85,
   "metadata": {},
   "outputs": [
    {
     "data": {
      "text/plain": [
       "[[1000, 1230], [1430, 1500], [1600, 1700]]"
      ]
     },
     "execution_count": 85,
     "metadata": {},
     "output_type": "execute_result"
    }
   ],
   "source": [
    "# for person 2\n",
    "\n",
    "time2 = time_preprocess(second_input1)\n",
    "time2"
   ]
  },
  {
   "cell_type": "code",
   "execution_count": 86,
   "metadata": {},
   "outputs": [
    {
     "data": {
      "text/plain": [
       "[900, 1030]"
      ]
     },
     "execution_count": 86,
     "metadata": {},
     "output_type": "execute_result"
    }
   ],
   "source": [
    "time1[0]                                                                                                                                                                                   "
   ]
  },
  {
   "cell_type": "code",
   "execution_count": 87,
   "metadata": {},
   "outputs": [],
   "source": [
    "def free_time(time, limit):\n",
    "    free = []\n",
    "    limits = time_preprocess([limit])\n",
    "    for i in range(len(time)):\n",
    "        free_1 = []\n",
    "        \n",
    "        if i==len(time)-1:\n",
    "            if time[i][1]<limits[0][1] and time[i][0]<limits[0][1]:\n",
    "                   \n",
    "                free.append([time[i][1], limits[0][1]])\n",
    "                break\n",
    "        if not time[i][1] == time[i+1][0]:\n",
    "            free.append([time[i][1], time[i+1][0]])\n",
    "       \n",
    "    \n",
    "    return free"
   ]
  },
  {
   "cell_type": "code",
   "execution_count": 88,
   "metadata": {},
   "outputs": [
    {
     "data": {
      "text/plain": [
       "[[1030, 1200], [1300, 1700], [1800, 2000]]"
      ]
     },
     "execution_count": 88,
     "metadata": {},
     "output_type": "execute_result"
    }
   ],
   "source": [
    "# free time for person 1\n",
    "\n",
    "ans1 = free_time(time1, first_input2)\n",
    "ans1"
   ]
  },
  {
   "cell_type": "code",
   "execution_count": 89,
   "metadata": {},
   "outputs": [
    {
     "data": {
      "text/plain": [
       "[[1230, 1430], [1500, 1600], [1700, 1830]]"
      ]
     },
     "execution_count": 89,
     "metadata": {},
     "output_type": "execute_result"
    }
   ],
   "source": [
    "# free time for person 2\n",
    "\n",
    "ans2 = free_time(time2, second_input2)\n",
    "ans2"
   ]
  },
  {
   "cell_type": "code",
   "execution_count": 90,
   "metadata": {},
   "outputs": [],
   "source": [
    "def meeting_time(t1,t2):\n",
    "    copy_t1 = sorted(t1)\n",
    "    copy_t2 = sorted(t2)\n",
    "    meet = []\n",
    "    for i in copy_t1:\n",
    "        for j in copy_t2:\n",
    "            \n",
    "            if j[1]>i[0] and j[0]<i[1]:\n",
    "                meet.append([max(i[0],j[0]),min(i[1],j[1])])\n",
    "    return meet\n"
   ]
  },
  {
   "cell_type": "code",
   "execution_count": 91,
   "metadata": {},
   "outputs": [
    {
     "data": {
      "text/plain": [
       "[[1300, 1430], [1500, 1600], [1800, 1830]]"
      ]
     },
     "execution_count": 91,
     "metadata": {},
     "output_type": "execute_result"
    }
   ],
   "source": [
    "# output \n",
    "\n",
    "\n",
    "meet_avail = meeting_time(ans1,ans2)\n",
    "meet_avail"
   ]
  },
  {
   "cell_type": "code",
   "execution_count": 92,
   "metadata": {},
   "outputs": [
    {
     "data": {
      "text/plain": [
       "[['12:30', '12:00'], ['15:00', '16:00'], ['18:00', '18:30']]"
      ]
     },
     "execution_count": 92,
     "metadata": {},
     "output_type": "execute_result"
    }
   ],
   "source": [
    "# output convert to time\n",
    "\n",
    "def time_to_string(meet_avail):\n",
    "    string_list = []\n",
    "    for i in meet:\n",
    "        string_list2 = []\n",
    "        for j in i:\n",
    "            j = str(j)\n",
    "            string_list2.append(j[:-2]+\":\"+j[-2:])\n",
    "        string_list.append(string_list2)\n",
    "    return string_list\n",
    "\n",
    "time_to_string(meet_avail)"
   ]
  },
  {
   "cell_type": "code",
   "execution_count": null,
   "metadata": {},
   "outputs": [],
   "source": []
  }
 ],
 "metadata": {
  "kernelspec": {
   "display_name": "Python 3",
   "language": "python",
   "name": "python3"
  },
  "language_info": {
   "codemirror_mode": {
    "name": "ipython",
    "version": 3
   },
   "file_extension": ".py",
   "mimetype": "text/x-python",
   "name": "python",
   "nbconvert_exporter": "python",
   "pygments_lexer": "ipython3",
   "version": "3.7.6"
  }
 },
 "nbformat": 4,
 "nbformat_minor": 4
}
