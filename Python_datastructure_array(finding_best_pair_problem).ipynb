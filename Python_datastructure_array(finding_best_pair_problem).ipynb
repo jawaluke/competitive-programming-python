{
  "nbformat": 4,
  "nbformat_minor": 0,
  "metadata": {
    "colab": {
      "name": "Python_datastructure_array(finding best pair problem)",
      "provenance": [],
      "authorship_tag": "ABX9TyPfqnNkTzZoz7y7wTJs5pcG",
      "include_colab_link": true
    },
    "kernelspec": {
      "name": "python3",
      "display_name": "Python 3"
    }
  },
  "cells": [
    {
      "cell_type": "markdown",
      "metadata": {
        "id": "view-in-github",
        "colab_type": "text"
      },
      "source": [
        "<a href=\"https://colab.research.google.com/github/jawaluke/competitive-programming-python/blob/master/Python_datastructure_array(finding_best_pair_problem).ipynb\" target=\"_parent\"><img src=\"https://colab.research.google.com/assets/colab-badge.svg\" alt=\"Open In Colab\"/></a>"
      ]
    },
    {
      "cell_type": "markdown",
      "metadata": {
        "id": "Xve0DOnKSy4h"
      },
      "source": [
        "#**Finding the best pairs from the given list based on the given value**"
      ]
    },
    {
      "cell_type": "markdown",
      "metadata": {
        "id": "wWGzw98LSyzn"
      },
      "source": [
        "#**For example :**\n",
        "\n",
        "**input: lst = [1,5,7,3,9], sum = 12**\n",
        "\n",
        "**output: [(5,7),(3,9)]**\n",
        "\n",
        "**input: lst = [2,1,5,7,-1,4], sum = 6**\n",
        "\n",
        "**output: [(2,4),(1,5),(7,-1)]**\n",
        "\n",
        "\n",
        "---\n",
        "\n"
      ]
    },
    {
      "cell_type": "code",
      "metadata": {
        "id": "9QtrH9QgUtQX",
        "outputId": "501c4894-d083-407e-c7db-03b12bb0deff",
        "colab": {
          "base_uri": "https://localhost:8080/",
          "height": 34
        }
      },
      "source": [
        "# Need to understand the pop function in the list\n",
        "\n",
        "l1 = [1,2,3,4]\n",
        "l1.pop()  # the pop function will return and remove the last element from the list"
      ],
      "execution_count": 3,
      "outputs": [
        {
          "output_type": "execute_result",
          "data": {
            "text/plain": [
              "4"
            ]
          },
          "metadata": {
            "tags": []
          },
          "execution_count": 3
        }
      ]
    },
    {
      "cell_type": "code",
      "metadata": {
        "id": "Bq9ZQDJTVG42",
        "outputId": "607896e5-9d43-4253-edf2-d329202af994",
        "colab": {
          "base_uri": "https://localhost:8080/",
          "height": 34
        }
      },
      "source": [
        "# if i again print the list, it shows like this\n",
        "l1  # it remove the last element from the list"
      ],
      "execution_count": 5,
      "outputs": [
        {
          "output_type": "execute_result",
          "data": {
            "text/plain": [
              "[1, 2, 3]"
            ]
          },
          "metadata": {
            "tags": []
          },
          "execution_count": 5
        }
      ]
    },
    {
      "cell_type": "code",
      "metadata": {
        "id": "j-Sd_FjzTx9h"
      },
      "source": [
        "# First step \n",
        "# to create a function bestpair\n",
        "\n",
        "def bestpair(lst, sum):\n",
        "  \n",
        "  if len(lst)>2:                 # 1. length of list must be <2\n",
        "  \n",
        "    pair = []                    # 2. create a empty list to append the best pairs\n",
        "\n",
        "    while lst:                   # 3. using while loop with list(lst) for iterating\n",
        "      \n",
        "      num = lst.pop()            # 4. pop the list and store the popped value in the variable num (didn't understand see the above cell)\n",
        "    \n",
        "      diff = sum - num           # 5. finding the difference between ( sum - pop value) \n",
        "\n",
        "      if diff in lst:            # 6. if the difference value present in list\n",
        "        pair.append((diff,num))  # 7. then, appending the (difference, pop value) to the 1) pair list\n",
        "  \n",
        "    return pair\n",
        "  return \"length of list must be greater than 2\"\n"
      ],
      "execution_count": 6,
      "outputs": []
    },
    {
      "cell_type": "code",
      "metadata": {
        "id": "KQ-39z2_ZtPo",
        "outputId": "0d72c412-e4ba-400c-c1b2-121b6447dc5d",
        "colab": {
          "base_uri": "https://localhost:8080/",
          "height": 34
        }
      },
      "source": [
        "# input and outputs\n",
        "\n",
        "bestpair([1,3,2,2],4)  , bestpair([0],5)"
      ],
      "execution_count": 11,
      "outputs": [
        {
          "output_type": "execute_result",
          "data": {
            "text/plain": [
              "([(2, 2), (1, 3)], 'length of list must be greater than 2')"
            ]
          },
          "metadata": {
            "tags": []
          },
          "execution_count": 11
        }
      ]
    },
    {
      "cell_type": "code",
      "metadata": {
        "id": "vBGjRtF2XiTe",
        "outputId": "907d9708-71ca-4c4e-af2e-d7719b9cfbe3",
        "colab": {
          "base_uri": "https://localhost:8080/",
          "height": 102
        }
      },
      "source": [
        "# mathematical implementation\n",
        "\"\"\"\n",
        "\n",
        "sample_lst = [1,3,2,2]\n",
        "sum = 4\n",
        "ans = []\n",
        "from the while loop executions\n",
        "\n",
        "1) lst = [1,3,2,2]\n",
        "    num = 2 # pop function\n",
        "    diff = 4-2 = 2\n",
        "    if diff in lst:\n",
        "      yes\n",
        "      ans.append((2,2))\n",
        "\n",
        "2) lst = [1,3,2]\n",
        "    num = 2\n",
        "    diff = 4-2 = 2\n",
        "    if diff in lst:\n",
        "      not # because 2 not in [1,3]\n",
        "\n",
        "3) lst = [1,3]\n",
        "    num = 3\n",
        "    diff = 4-3 = 1\n",
        "    if diff in lst:\n",
        "      yes\n",
        "      ans.append((1,3))\n",
        "\n",
        "4) lst = [1]\n",
        "    num = 1\n",
        "    diff = 4-1 =3\n",
        "    if diff in lst:\n",
        "      not # because 3 not in []\n",
        "\n",
        "So, the best pair is ((2,2), (1,3))\n",
        "\n",
        "\"\"\""
      ],
      "execution_count": 12,
      "outputs": [
        {
          "output_type": "execute_result",
          "data": {
            "application/vnd.google.colaboratory.intrinsic+json": {
              "type": "string"
            },
            "text/plain": [
              "'\\n\\nsample_lst = [1,3,2,2]\\nsum = 4\\nans = []\\nfrom the while loop executions\\n\\n1) lst = [1,3,2,2]\\n    num = 2 # pop function\\n    diff = 4-2 = 2\\n    if diff in lst:\\n      yes\\n      ans.append((2,2))\\n\\n2) lst = [1,3,2]\\n    num = 2\\n    diff = 4-2 = 2\\n    if diff in lst:\\n      not # because 2 not in [1,3]\\n\\n3) lst = [1,3]\\n    num = 3\\n    diff = 4-3 = 1\\n    if diff in lst:\\n      yes\\n      ans.append((1,3))\\n\\n4) lst = [1]\\n    num = 1\\n    diff = 4-1 =3\\n    if diff in lst:\\n      not # because 3 not in []\\n\\nSo, the best pair is ((2,2), (1,3))\\n\\n'"
            ]
          },
          "metadata": {
            "tags": []
          },
          "execution_count": 12
        }
      ]
    },
    {
      "cell_type": "markdown",
      "metadata": {
        "id": "TySIM7gTaGQ5"
      },
      "source": [
        "#**Another method but this check for every possible element pair matches the sum**"
      ]
    },
    {
      "cell_type": "code",
      "metadata": {
        "id": "VA0hjyZSaEO3"
      },
      "source": [
        "\n",
        "input1 = [1,3,2,2]\n",
        "sum =4\n",
        "# if you want for best 3 pair you can add another loop\n",
        "\n",
        "def pairs(input1,sum):\n",
        "\n",
        "  if len(input1)>2:       # check for input greater than 2\n",
        "    li =[]\n",
        "    for i in input1:      # taking the iteration of list\n",
        "      for j in input1:    # taking another iteration of the same list\n",
        "\n",
        "        if i+j==sum:      # adding the i and j == sum\n",
        "          li.append((i,j))# appending the i and j\n",
        "\n",
        "    return list(set(li))\n",
        "  return \"not have pair\""
      ],
      "execution_count": 20,
      "outputs": []
    },
    {
      "cell_type": "code",
      "metadata": {
        "id": "QkbTtS4sakAa",
        "outputId": "8cfba19f-7276-4c40-a0fb-40e9e7f231e7",
        "colab": {
          "base_uri": "https://localhost:8080/",
          "height": 34
        }
      },
      "source": [
        "pairs(input1, sum)"
      ],
      "execution_count": 19,
      "outputs": [
        {
          "output_type": "execute_result",
          "data": {
            "text/plain": [
              "[(1, 3), (3, 1), (2, 2)]"
            ]
          },
          "metadata": {
            "tags": []
          },
          "execution_count": 19
        }
      ]
    },
    {
      "cell_type": "code",
      "metadata": {
        "id": "UJcY1pb4amrh"
      },
      "source": [
        "# thank you"
      ],
      "execution_count": null,
      "outputs": []
    }
  ]
}