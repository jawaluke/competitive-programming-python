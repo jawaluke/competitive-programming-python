{
 "cells": [
  {
   "cell_type": "markdown",
   "metadata": {},
   "source": [
    "# PROBLEM STATEMENT"
   ]
  },
  {
   "cell_type": "markdown",
   "metadata": {},
   "source": [
    "# Everyone used or saw the keypad phone which were used in late 90's unlikely than touch phones we have.\n",
    "\n",
    "# The general representation of the key pad phone like this\n",
    "\n",
    "\n",
    "#  1 |  2  |  3  |\n",
    "    abc| def |\n",
    "#  4 |  5  |  6  |\n",
    "   ghi | jkl  |  mno |\n",
    "#  7 |  8  |  9  |\n",
    "   pqrs | tuv  |  wxyz |\n",
    "#  *  |  0  |   # |"
   ]
  },
  {
   "cell_type": "markdown",
   "metadata": {},
   "source": [
    "# **when i press a number it has a some sort characters like**\n",
    "\n",
    "# **when i press \" 3 \" it have character like \" d e f \"**\n",
    "\n",
    "# **understand the logic**\n",
    "\n",
    "# ---------------------------------------------------------------------------------------------------------------\n",
    "\n",
    "\n",
    "# Sample Input and Output :\n",
    "\n",
    "# input 1 : 3662277\n",
    "\n",
    "# input 2 : [\"foo\",\"bar\",\"baz\",\"foobar\",\"emo\",\"cap\",\"car\",\"cat\"]\n",
    "\n",
    "# output : [\"bar\",\"cap\",\"car\",\"emo\",\"foo\",\"foobar\"]\n",
    "\n",
    "# Explanation :\n",
    "\n",
    "# 1. take the first word in the list : \"foo\" \n",
    "\n",
    "# \" f \" represent in keypad no : 3\n",
    "\n",
    "# \" o \" represent in keypad no : 6\n",
    "\n",
    "# \" o \" represent in keypad no : 6\n",
    "\n",
    "# 366 are present in the input number \n",
    "\n",
    "\n",
    "# -----------------------------------------------------------------------------------------------------------------\n",
    "\n",
    "\n",
    "# 2. to remove the words whose keypad no doesn't match the input no: \"baz\"\n",
    "\n",
    "# \" b \" represent in keypad no : 2\n",
    "\n",
    "# \" a \" represent in keypad no : 2\n",
    "\n",
    "# \" z \" represent in keypad no : 9\n",
    "\n",
    "# 9 is not in the input number .so, remove this word from the list \n"
   ]
  },
  {
   "cell_type": "code",
   "execution_count": 15,
   "metadata": {},
   "outputs": [],
   "source": [
    "# dictionary contains the keypad\n",
    "\n",
    "# creating the keypad \n",
    "\n",
    "key_pad = {\n",
    "    0:[],\n",
    "    1:[],\n",
    "    2:[\"a\",\"b\",\"c\"],\n",
    "    3:[\"d\",\"e\",\"f\"],\n",
    "    4:[\"g\",\"h\",\"i\"],\n",
    "    5:[\"j\",\"k\",\"l\"],\n",
    "    6:[\"m\",\"n\",\"o\"],\n",
    "    7:[\"p\",\"q\",\"r\",\"s\"],\n",
    "    8:[\"t\",\"u\",\"v\"],\n",
    "    9:[\"w\",\"x\",\"y\",\"z\"]\n",
    "}\n"
   ]
  },
  {
   "cell_type": "code",
   "execution_count": 16,
   "metadata": {
    "scrolled": true
   },
   "outputs": [
    {
     "data": {
      "text/plain": [
       "{0: [],\n",
       " 1: [],\n",
       " 2: ['a', 'b', 'c'],\n",
       " 3: ['d', 'e', 'f'],\n",
       " 4: ['g', 'h', 'i'],\n",
       " 5: ['j', 'k', 'l'],\n",
       " 6: ['m', 'n', 'o'],\n",
       " 7: ['p', 'q', 'r', 's'],\n",
       " 8: ['t', 'u', 'v'],\n",
       " 9: ['w', 'x', 'y', 'z']}"
      ]
     },
     "execution_count": 16,
     "metadata": {},
     "output_type": "execute_result"
    }
   ],
   "source": [
    "key_pad"
   ]
  },
  {
   "cell_type": "code",
   "execution_count": 18,
   "metadata": {},
   "outputs": [
    {
     "name": "stdout",
     "output_type": "stream",
     "text": [
      "['9', '7', '8', '7', '6', '4', '4', '3', '9', '0']\n",
      "['w', 'x', 'y', 'z']\n",
      "['p', 'q', 'r', 's']\n",
      "['t', 'u', 'v']\n",
      "['p', 'q', 'r', 's']\n",
      "['m', 'n', 'o']\n",
      "['g', 'h', 'i']\n",
      "['g', 'h', 'i']\n",
      "['d', 'e', 'f']\n",
      "['w', 'x', 'y', 'z']\n",
      "[]\n"
     ]
    }
   ],
   "source": [
    "# now, i'm convert the string of no into a list \n",
    "# input\n",
    "\n",
    "number = \"9787644390\"\n",
    "number = [i for i in number]\n",
    "print(number)\n",
    "\n",
    "# getting the character with the key_pad no\n",
    "for i in number:\n",
    "    print(key_pad[int(i)])"
   ]
  },
  {
   "cell_type": "code",
   "execution_count": 22,
   "metadata": {},
   "outputs": [
    {
     "name": "stdout",
     "output_type": "stream",
     "text": [
      "the correspondent keypad no :  3\n"
     ]
    }
   ],
   "source": [
    "# to access the dictionary \n",
    "#like i need to get the character's key_pad number \n",
    "# eg: if i sent \"f\" get the character's keyppad number \"3\"\n",
    "\n",
    "# eg key\n",
    "val = \"d\"\n",
    "\n",
    "for key,values in key_pad.items():\n",
    "    if val in values:\n",
    "        print(\"the correspondent keypad no : \",key)\n",
    "\n",
    "    "
   ]
  },
  {
   "cell_type": "code",
   "execution_count": null,
   "metadata": {},
   "outputs": [],
   "source": []
  },
  {
   "cell_type": "code",
   "execution_count": null,
   "metadata": {},
   "outputs": [],
   "source": []
  },
  {
   "cell_type": "code",
   "execution_count": 26,
   "metadata": {},
   "outputs": [
    {
     "name": "stdout",
     "output_type": "stream",
     "text": [
      "Enter the numbers : 9787644390\n",
      "Enter the character with space : wer dfg bnb uioy mlk dfs aswf mnh\n",
      "the original list :  ['wer', 'dfg', 'bnb', 'uioy', 'mlk', 'dfs', 'aswf', 'mnh']\n",
      "\n",
      " the correct list is :  ['wer', 'dfg', 'uioy', 'dfs', 'mnh']\n",
      "\n",
      " the wrong list is :  ['bnb', 'mlk', 'aswf']\n"
     ]
    },
    {
     "data": {
      "text/plain": [
       "(['bnb', 'mlk', 'aswf'], ['wer', 'dfg', 'uioy', 'dfs', 'mnh'])"
      ]
     },
     "execution_count": 26,
     "metadata": {},
     "output_type": "execute_result"
    }
   ],
   "source": [
    "\n",
    "# original source code\n",
    "\n",
    "# define the get key function\n",
    "# to get the correspondent keypad numbers\n",
    "\n",
    "def get_key(val):\n",
    "    for key,values in key_pad.items():\n",
    "        if val in values:\n",
    "            return key\n",
    "        \n",
    "        \n",
    "def src(key_pad):\n",
    "    # INPUT 1:\n",
    "    input_no = input(\"Enter the numbers : \")          # getting the input1 numbers in string  eg : \"97876534\"\n",
    "     \n",
    "                                                      # get string and convert it into a list with integer eg: [9,7,8,7,6,5,3,4]\n",
    "    number = [int(i) for i in input_no]\n",
    "    \n",
    "    \n",
    "    # INPUT 2:\n",
    "    input2 = input(\"Enter the character with space : \") # getting the word as input2 eg: \"foo car bar bazes\"\n",
    "    input_lis = input2.split()                          # convert it to a list   eg: [ \"foo\",\"car\",\"bar\",\"bazes\"]\n",
    "    wrong = []\n",
    "\n",
    "    for word in input_lis:\n",
    "        for letter in word:\n",
    "            key_no = get_key(letter) # getting the coresspondent keypad no by calling the function\n",
    "            \n",
    "            if key_no in number:     # checking the keypad no in the input1 number list\n",
    "                pass\n",
    "            else:                    # if not present then storing it in wrong list \n",
    "                wrong.append(word)\n",
    "    wrong = list(set(wrong))         # stoping the repeatation \n",
    "    correct = []\n",
    "    for i in input_lis:              # comparing the wrong list with the input2 character list\n",
    "        \n",
    "        if i not in wrong:           # if the character not present then append it to a correct list\n",
    "            correct.append(i)\n",
    "    \n",
    "\n",
    "    print(\"the original list : \",input_lis)\n",
    "    print(\"\\n the correct list is : \",correct)\n",
    "    print(\"\\n the wrong list is : \",wrong)\n",
    " \n",
    "    return wrong, correct\n",
    "\n",
    "\n",
    "    \n",
    "\n",
    "    \n",
    "src(key_pad)"
   ]
  },
  {
   "cell_type": "code",
   "execution_count": 140,
   "metadata": {},
   "outputs": [
    {
     "data": {
      "text/plain": [
       "['baz', 'cat']"
      ]
     },
     "execution_count": 140,
     "metadata": {},
     "output_type": "execute_result"
    }
   ],
   "source": [
    "wrong"
   ]
  },
  {
   "cell_type": "code",
   "execution_count": 25,
   "metadata": {},
   "outputs": [
    {
     "data": {
      "text/plain": [
       "False"
      ]
     },
     "execution_count": 25,
     "metadata": {},
     "output_type": "execute_result"
    }
   ],
   "source": [
    "3 in [\"3\",\"4\",\"5\",\"7\",\"8\"]"
   ]
  },
  {
   "cell_type": "code",
   "execution_count": 141,
   "metadata": {},
   "outputs": [
    {
     "data": {
      "text/plain": [
       "{'2', '3', '6', '7', '8', '9'}"
      ]
     },
     "execution_count": 141,
     "metadata": {},
     "output_type": "execute_result"
    }
   ],
   "source": [
    "set(no)"
   ]
  },
  {
   "cell_type": "code",
   "execution_count": 14,
   "metadata": {},
   "outputs": [
    {
     "name": "stdout",
     "output_type": "stream",
     "text": [
      "Enter the numbers : 9787644390\n",
      "Enter the character with space : asd ertu fgjs asfa dghf bbm utu kghj\n",
      "the original list :  ['asd', 'ertu', 'fgjs', 'asfa', 'dghf', 'bbm', 'utu', 'kghj']\n",
      "\n",
      " the correct list is :  ['ertu', 'dghf', 'utu']\n",
      "\n",
      " the wrong list is :  ['fgjs', 'kghj', 'asfa', 'asd', 'bbm']\n",
      "\n",
      " the key pad \n",
      " {0: [], 1: [], 2: ['a', 'b', 'c'], 3: ['d', 'e', 'f'], 4: ['g', 'h', 'i'], 5: ['j', 'k', 'l'], 6: ['m', 'n', 'o'], 7: ['p', 'q', 'r', 's'], 8: ['t', 'u', 'v'], 9: ['w', 'x', 'y', 'z']}\n"
     ]
    },
    {
     "data": {
      "text/plain": [
       "(['fgjs', 'kghj', 'asfa', 'asd', 'bbm'], ['ertu', 'dghf', 'utu'])"
      ]
     },
     "execution_count": 14,
     "metadata": {},
     "output_type": "execute_result"
    }
   ],
   "source": [
    "\n",
    "# original source code\n",
    "\n",
    "\n",
    "def get_key(val):\n",
    "    for key,values in key_pad.items():\n",
    "        if val in values:\n",
    "            return key\n",
    "        \n",
    "        \n",
    "def src(key_pad):\n",
    "    # input 1:\n",
    "    input_no = input(\"Enter the numbers : \")\n",
    "    number=[]\n",
    "    \n",
    "    # get string and convert it into a list\n",
    "    \n",
    "    for i in input_no:\n",
    "        number.append(int(i))\n",
    "    \n",
    "    # input 2:\n",
    "    input2 = input(\"Enter the character with space : \")\n",
    "    input_lis = input2.split()\n",
    "    wrong = []\n",
    "\n",
    "    for i in input_lis:\n",
    "        for j in i:\n",
    "            key_no = get_key(j)\n",
    "            \n",
    "            if key_no in number:\n",
    "                pass\n",
    "            else:\n",
    "                wrong.append(i)\n",
    "    wrong = list(set(wrong))\n",
    "    correct = []\n",
    "    for i in input_lis:\n",
    "        if i not in wrong:\n",
    "            correct.append(i)\n",
    "    \n",
    "\n",
    "    print(\"the original list : \",input_lis)\n",
    "    print(\"\\n the correct list is : \",correct)\n",
    "    print(\"\\n the wrong list is : \",wrong)\n",
    "    print(\"\\n the key pad \\n\",key_pad)\n",
    "\n",
    "    return wrong, correct\n",
    "\n",
    "\n",
    "    \n",
    "    \n",
    "src(key_pad)"
   ]
  },
  {
   "cell_type": "code",
   "execution_count": 91,
   "metadata": {},
   "outputs": [
    {
     "data": {
      "text/plain": [
       "{0: [],\n",
       " 1: [],\n",
       " 2: ['a', 'b', 'c'],\n",
       " 3: ['d', 'e', 'f'],\n",
       " 4: ['g', 'h', 'i'],\n",
       " 5: ['j', 'k', 'l'],\n",
       " 6: ['m', 'n', 'o'],\n",
       " 7: ['p', 'q', 'r', 's'],\n",
       " 8: ['t', 'u', 'v'],\n",
       " 9: ['w', 'x', 'y', 'z']}"
      ]
     },
     "execution_count": 91,
     "metadata": {},
     "output_type": "execute_result"
    }
   ],
   "source": [
    "\n",
    "\n",
    "input = [3,6,6,2,2,7,7]\n",
    "input_word = [\"foo\",\"bar\",\"baz\",\"foobar\",\"emo\",\"cap\",\"car\",\"cat\"]\n",
    "\n",
    "output = [\"bar\",\"cap\",\"car\",\"emo\",\"foo\",\"foobar\"]\n",
    "\n",
    "key_pad"
   ]
  },
  {
   "cell_type": "code",
   "execution_count": 9,
   "metadata": {},
   "outputs": [
    {
     "data": {
      "text/plain": [
       "True"
      ]
     },
     "execution_count": 9,
     "metadata": {},
     "output_type": "execute_result"
    }
   ],
   "source": [
    "\"2\" in [\"2\",\"3\"]"
   ]
  },
  {
   "cell_type": "code",
   "execution_count": 106,
   "metadata": {},
   "outputs": [
    {
     "data": {
      "text/plain": [
       "'23467765'"
      ]
     },
     "execution_count": 106,
     "metadata": {},
     "output_type": "execute_result"
    }
   ],
   "source": [
    "st"
   ]
  },
  {
   "cell_type": "code",
   "execution_count": 132,
   "metadata": {},
   "outputs": [
    {
     "ename": "TypeError",
     "evalue": "'list' object is not callable",
     "output_type": "error",
     "traceback": [
      "\u001b[1;31m---------------------------------------------------------------------------\u001b[0m",
      "\u001b[1;31mTypeError\u001b[0m                                 Traceback (most recent call last)",
      "\u001b[1;32m<ipython-input-132-37e12f66e61c>\u001b[0m in \u001b[0;36m<module>\u001b[1;34m\u001b[0m\n\u001b[1;32m----> 1\u001b[1;33m \u001b[0ma\u001b[0m \u001b[1;33m=\u001b[0m \u001b[0mint\u001b[0m\u001b[1;33m(\u001b[0m\u001b[0minput\u001b[0m\u001b[1;33m(\u001b[0m\u001b[1;34m\"Enter name \"\u001b[0m\u001b[1;33m)\u001b[0m\u001b[1;33m)\u001b[0m\u001b[1;33m\u001b[0m\u001b[1;33m\u001b[0m\u001b[0m\n\u001b[0m",
      "\u001b[1;31mTypeError\u001b[0m: 'list' object is not callable"
     ]
    }
   ],
   "source": [
    "a = int(input(\"Enter name \"))"
   ]
  },
  {
   "cell_type": "code",
   "execution_count": null,
   "metadata": {},
   "outputs": [],
   "source": []
  }
 ],
 "metadata": {
  "kernelspec": {
   "display_name": "Python 3",
   "language": "python",
   "name": "python3"
  },
  "language_info": {
   "codemirror_mode": {
    "name": "ipython",
    "version": 3
   },
   "file_extension": ".py",
   "mimetype": "text/x-python",
   "name": "python",
   "nbconvert_exporter": "python",
   "pygments_lexer": "ipython3",
   "version": "3.7.6"
  }
 },
 "nbformat": 4,
 "nbformat_minor": 4
}
